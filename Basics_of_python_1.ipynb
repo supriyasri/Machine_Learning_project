{
  "nbformat": 4,
  "nbformat_minor": 0,
  "metadata": {
    "colab": {
      "name": "Basics of python_1.ipynb",
      "provenance": [],
      "collapsed_sections": [],
      "authorship_tag": "ABX9TyP5pMq3+BsAPRGtl1AouYMM",
      "include_colab_link": true
    },
    "kernelspec": {
      "name": "python3",
      "display_name": "Python 3"
    }
  },
  "cells": [
    {
      "cell_type": "markdown",
      "metadata": {
        "id": "view-in-github",
        "colab_type": "text"
      },
      "source": [
        "<a href=\"https://colab.research.google.com/github/supriyasri/Machine_Learning_project/blob/master/Basics_of_python_1.ipynb\" target=\"_parent\"><img src=\"https://colab.research.google.com/assets/colab-badge.svg\" alt=\"Open In Colab\"/></a>"
      ]
    },
    {
      "cell_type": "code",
      "metadata": {
        "colab": {
          "base_uri": "https://localhost:8080/"
        },
        "id": "gtdlPD3wFC1g",
        "outputId": "e538763d-bc77-40b3-9f47-b4bb5475cbb8"
      },
      "source": [
        "color = 'blue'\n",
        "if color == 'red':\n",
        "    print('The color is red')\n",
        "elif color == 'green':\n",
        "    print('The color is green')\n",
        "else:\n",
        "    print('The color is not red or green')"
      ],
      "execution_count": 2,
      "outputs": [
        {
          "output_type": "stream",
          "text": [
            "The color is not red or green\n"
          ],
          "name": "stdout"
        }
      ]
    },
    {
      "cell_type": "code",
      "metadata": {
        "colab": {
          "base_uri": "https://localhost:8080/"
        },
        "id": "uTHAS5DUFEvh",
        "outputId": "2179426b-fed7-4e4e-e5ab-1e52c7d54e3b"
      },
      "source": [
        "a = 100\n",
        "b = 100\n",
        "if b > a:\n",
        "  print(\"b is greater than a\")\n",
        "elif a == b:\n",
        "  print(\"a and b are equal\")\n",
        "else :\n",
        "  print(\"a is less than b\")\n"
      ],
      "execution_count": 4,
      "outputs": [
        {
          "output_type": "stream",
          "text": [
            "a and b are equal\n"
          ],
          "name": "stdout"
        }
      ]
    },
    {
      "cell_type": "code",
      "metadata": {
        "colab": {
          "base_uri": "https://localhost:8080/"
        },
        "id": "p4KwRoS5FV6Z",
        "outputId": "24238c08-cf5a-44a8-f6bd-dae33cd34852"
      },
      "source": [
        "a = 100\n",
        "b = 150\n",
        "if b > a:\n",
        "  print(\"b is greater than a\")\n",
        "elif a == b:\n",
        "  print(\"a and b are equal\")\n",
        "else :\n",
        "  print(\"a is less than b\")"
      ],
      "execution_count": 5,
      "outputs": [
        {
          "output_type": "stream",
          "text": [
            "b is greater than a\n"
          ],
          "name": "stdout"
        }
      ]
    },
    {
      "cell_type": "code",
      "metadata": {
        "colab": {
          "base_uri": "https://localhost:8080/"
        },
        "id": "41kc5773Fecb",
        "outputId": "7eb514a3-12c3-469c-8bb8-65573049e5f6"
      },
      "source": [
        "a = 5\n",
        "if a>20:\n",
        "    print('a is greater than 20')\n",
        "else:\n",
        "    print('a is less than 20')"
      ],
      "execution_count": 6,
      "outputs": [
        {
          "output_type": "stream",
          "text": [
            "a is less than 20\n"
          ],
          "name": "stdout"
        }
      ]
    },
    {
      "cell_type": "code",
      "metadata": {
        "colab": {
          "base_uri": "https://localhost:8080/"
        },
        "id": "-L8jhOy8Fjqx",
        "outputId": "3ce8f392-6a5c-408b-a9f4-597467fc89ea"
      },
      "source": [
        "a=30\n",
        "bool(a)"
      ],
      "execution_count": 7,
      "outputs": [
        {
          "output_type": "execute_result",
          "data": {
            "text/plain": [
              "True"
            ]
          },
          "metadata": {
            "tags": []
          },
          "execution_count": 7
        }
      ]
    },
    {
      "cell_type": "code",
      "metadata": {
        "colab": {
          "base_uri": "https://localhost:8080/"
        },
        "id": "WcjqS11UJ2k-",
        "outputId": "f6c9bbf4-8772-46af-9187-5c55dca7883e"
      },
      "source": [
        "a=0\n",
        "bool(a)"
      ],
      "execution_count": 8,
      "outputs": [
        {
          "output_type": "execute_result",
          "data": {
            "text/plain": [
              "False"
            ]
          },
          "metadata": {
            "tags": []
          },
          "execution_count": 8
        }
      ]
    },
    {
      "cell_type": "code",
      "metadata": {
        "colab": {
          "base_uri": "https://localhost:8080/"
        },
        "id": "8gtUNEkUJ52a",
        "outputId": "673cba68-82e3-43c2-83d4-4363cab00a51"
      },
      "source": [
        "a=[]\n",
        "bool(a)"
      ],
      "execution_count": 9,
      "outputs": [
        {
          "output_type": "execute_result",
          "data": {
            "text/plain": [
              "False"
            ]
          },
          "metadata": {
            "tags": []
          },
          "execution_count": 9
        }
      ]
    },
    {
      "cell_type": "code",
      "metadata": {
        "colab": {
          "base_uri": "https://localhost:8080/"
        },
        "id": "CNoHL9l-J4nR",
        "outputId": "5e4a2851-2369-4fd4-c845-0f636d0fab61"
      },
      "source": [
        "a=[0,1,2]\n",
        "bool(a)"
      ],
      "execution_count": 10,
      "outputs": [
        {
          "output_type": "execute_result",
          "data": {
            "text/plain": [
              "True"
            ]
          },
          "metadata": {
            "tags": []
          },
          "execution_count": 10
        }
      ]
    },
    {
      "cell_type": "code",
      "metadata": {
        "id": "a7ISgs8ZPxF0"
      },
      "source": [
        ""
      ],
      "execution_count": null,
      "outputs": []
    },
    {
      "cell_type": "code",
      "metadata": {
        "colab": {
          "base_uri": "https://localhost:8080/"
        },
        "id": "JK_BzudbJ-c7",
        "outputId": "1b09b9f9-508d-454d-bc30-f3553e12ecdd"
      },
      "source": [
        "def order_of_whether(x):       #defined a function \n",
        "  if bool(x==\"rain\"):\n",
        "    print(\"I will sit in home\")\n",
        "  else:\n",
        "    print(\"go out and enjoy\")\n",
        "\n",
        "a=order_of_whether(\"summer\") # calling the fucntion using variable a"
      ],
      "execution_count": 12,
      "outputs": [
        {
          "output_type": "stream",
          "text": [
            "go out and enjoy\n"
          ],
          "name": "stdout"
        }
      ]
    },
    {
      "cell_type": "code",
      "metadata": {
        "colab": {
          "base_uri": "https://localhost:8080/"
        },
        "id": "34bzEuUoNkWk",
        "outputId": "d739566f-56b5-46f6-8467-76b18ed9f6dd"
      },
      "source": [
        "def even(x):\n",
        "  if x%2==0:\n",
        "    print(\"even number\")\n",
        "  else:\n",
        "    print(\"odd number\")\n",
        "\n",
        "a=even(5)\n",
        "#print(\"the value of a is\", a)"
      ],
      "execution_count": 14,
      "outputs": [
        {
          "output_type": "stream",
          "text": [
            "odd number\n"
          ],
          "name": "stdout"
        }
      ]
    },
    {
      "cell_type": "code",
      "metadata": {
        "colab": {
          "base_uri": "https://localhost:8080/"
        },
        "id": "18uEe7HJNz4N",
        "outputId": "bcedd6b2-2f8c-4378-fa86-1ee6771a814f"
      },
      "source": [
        "\n",
        "\n",
        "a=bool(\"rain\")"
      ],
      "execution_count": 16,
      "outputs": [
        {
          "output_type": "stream",
          "text": [
            "True\n"
          ],
          "name": "stdout"
        }
      ]
    },
    {
      "cell_type": "code",
      "metadata": {
        "colab": {
          "base_uri": "https://localhost:8080/"
        },
        "id": "LlBgPfW3OFLO",
        "outputId": "68bc9d55-874d-4e80-fea3-a839afb62635"
      },
      "source": [
        "a=bool(\"rain\")\n",
        "print(a)"
      ],
      "execution_count": 19,
      "outputs": [
        {
          "output_type": "stream",
          "text": [
            "True\n"
          ],
          "name": "stdout"
        }
      ]
    },
    {
      "cell_type": "code",
      "metadata": {
        "colab": {
          "base_uri": "https://localhost:8080/"
        },
        "id": "R_2YgzKBOLaJ",
        "outputId": "530cfa60-b9c5-4457-b76e-7846861e6dd4"
      },
      "source": [
        "a = 5\n",
        "if bool(a>20):\n",
        "    print('a is greater than 20')\n",
        "else:\n",
        "    print('a is less than 20')"
      ],
      "execution_count": 20,
      "outputs": [
        {
          "output_type": "stream",
          "text": [
            "a is less than 20\n"
          ],
          "name": "stdout"
        }
      ]
    },
    {
      "cell_type": "code",
      "metadata": {
        "colab": {
          "base_uri": "https://localhost:8080/"
        },
        "id": "wj6Lh90CPhhR",
        "outputId": "dc65a2a9-fe99-48ae-9a2a-b0a7aec59232"
      },
      "source": [
        "def number(x):                 # Program 1\n",
        "  if bool(x):\n",
        "    print(\"value entered makes sense\")\n",
        "  else:\n",
        "    print(\"enter valid number in order to execute boolean function\")\n",
        "\n",
        "a=number(0)"
      ],
      "execution_count": 24,
      "outputs": [
        {
          "output_type": "stream",
          "text": [
            "enter valid number in order to execute boolean function\n"
          ],
          "name": "stdout"
        }
      ]
    },
    {
      "cell_type": "code",
      "metadata": {
        "colab": {
          "base_uri": "https://localhost:8080/"
        },
        "id": "Tj19lq-FQvuz",
        "outputId": "43b4975d-c30d-419a-9dba-221f1f80db2a"
      },
      "source": [
        "def number(x):                  # Program 2\n",
        "  if bool(x):\n",
        "    print(\"value entered makes sense\")\n",
        "  else:\n",
        "    print(\"enter valid number in order to execute boolean function\")\n",
        "\n",
        "a=number(4)"
      ],
      "execution_count": 25,
      "outputs": [
        {
          "output_type": "stream",
          "text": [
            "value entered makes sense\n"
          ],
          "name": "stdout"
        }
      ]
    },
    {
      "cell_type": "code",
      "metadata": {
        "id": "zkj7RP-PQ-Fg"
      },
      "source": [
        ""
      ],
      "execution_count": null,
      "outputs": []
    }
  ]
}